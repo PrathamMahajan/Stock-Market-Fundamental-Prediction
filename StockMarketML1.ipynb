{
  "nbformat": 4,
  "nbformat_minor": 0,
  "metadata": {
    "colab": {
      "provenance": [],
      "authorship_tag": "ABX9TyM+s+DWp2dM9//eUkT4Il2o",
      "include_colab_link": true
    },
    "kernelspec": {
      "name": "python3",
      "display_name": "Python 3"
    },
    "language_info": {
      "name": "python"
    }
  },
  "cells": [
    {
      "cell_type": "markdown",
      "metadata": {
        "id": "view-in-github",
        "colab_type": "text"
      },
      "source": [
        "<a href=\"https://colab.research.google.com/github/PrathamMahajan/Stock-Market-Fundamental-Prediction/blob/main/StockMarketML1.ipynb\" target=\"_parent\"><img src=\"https://colab.research.google.com/assets/colab-badge.svg\" alt=\"Open In Colab\"/></a>"
      ]
    },
    {
      "cell_type": "code",
      "execution_count": null,
      "metadata": {
        "id": "zOdt5waM_4jY"
      },
      "outputs": [],
      "source": [
        "import pandas as pd\n",
        "import numpy as np\n",
        "import seaborn as sns\n",
        "import matplotlib.pyplot as plt\n",
        "from sklearn.model_selection import train_test_split\n",
        "from sklearn.ensemble import RandomForestClassifier\n",
        "from sklearn.metrics import accuracy_score\n",
        "from sklearn.linear_model import LogisticRegression"
      ]
    },
    {
      "cell_type": "code",
      "source": [
        "stocks = pd.read_csv('/content/nifty_500_data.csv')"
      ],
      "metadata": {
        "id": "SZ2zengGAGk4"
      },
      "execution_count": null,
      "outputs": []
    },
    {
      "cell_type": "code",
      "source": [
        "stocks.info()"
      ],
      "metadata": {
        "colab": {
          "base_uri": "https://localhost:8080/"
        },
        "id": "DAyMeDdBAG_a",
        "outputId": "cdfb543d-1618-46dd-93b8-e6641a54a588"
      },
      "execution_count": null,
      "outputs": [
        {
          "output_type": "stream",
          "name": "stdout",
          "text": [
            "<class 'pandas.core.frame.DataFrame'>\n",
            "RangeIndex: 482 entries, 0 to 481\n",
            "Data columns (total 70 columns):\n",
            " #   Column                       Non-Null Count  Dtype  \n",
            "---  ------                       --------------  -----  \n",
            " 0   Unnamed: 0                   482 non-null    object \n",
            " 1   market_cap                   482 non-null    int64  \n",
            " 2   current_price                482 non-null    float64\n",
            " 3   high_price                   482 non-null    float64\n",
            " 4   low_price                    482 non-null    float64\n",
            " 5   stock_PE                     482 non-null    float64\n",
            " 6   Book_Value                   482 non-null    float64\n",
            " 7   Dividend_Yield               482 non-null    float64\n",
            " 8   ROCE                         482 non-null    float64\n",
            " 9   ROE                          482 non-null    float64\n",
            " 10  net_profit_tminus3           482 non-null    float64\n",
            " 11  net_profit_tminus2           482 non-null    float64\n",
            " 12  net_profit_tminus1           482 non-null    float64\n",
            " 13  net_profit_t                 482 non-null    float64\n",
            " 14  dividend_payout_tminus3      482 non-null    int64  \n",
            " 15  dividend_payout_tminus2      482 non-null    int64  \n",
            " 16  dividend_payout_tminus1      482 non-null    int64  \n",
            " 17  dividend_payout_t            482 non-null    int64  \n",
            " 18  compounded_sales_growth      482 non-null    int64  \n",
            " 19  compounded_profit_growth     482 non-null    int64  \n",
            " 20  stock_price_CAGR             482 non-null    int64  \n",
            " 21  return_on_equity             482 non-null    int64  \n",
            " 22  share_capital_tminus2        482 non-null    int64  \n",
            " 23  share_capital_tminus1        482 non-null    int64  \n",
            " 24  share_capital_t              482 non-null    int64  \n",
            " 25  reserves_tminus2             482 non-null    int64  \n",
            " 26  reserves_tminus1             482 non-null    int64  \n",
            " 27  reserves_t                   482 non-null    int64  \n",
            " 28  borrowings_tminus2           482 non-null    int64  \n",
            " 29  borrowings_tminus1           482 non-null    int64  \n",
            " 30  borrowings_t                 482 non-null    int64  \n",
            " 31  other_liabilities_tminus2    482 non-null    int64  \n",
            " 32  other_liabilities_tminus1    482 non-null    int64  \n",
            " 33  other_liabilities_t          482 non-null    int64  \n",
            " 34  fixed_assets_tminus2         482 non-null    int64  \n",
            " 35  fixed_assets_tminus1         482 non-null    int64  \n",
            " 36  fixed_assets_t               482 non-null    int64  \n",
            " 37  CWIP_tminus2                 482 non-null    int64  \n",
            " 38  CWIP_tminus1                 482 non-null    int64  \n",
            " 39  CWIP_t                       482 non-null    int64  \n",
            " 40  investments_tminus2          482 non-null    int64  \n",
            " 41  investments_tminus1          482 non-null    int64  \n",
            " 42  investments_t                482 non-null    int64  \n",
            " 43  other_assets_tminus2         482 non-null    int64  \n",
            " 44  other_assets_tminus1         482 non-null    int64  \n",
            " 45  other_assets_t               482 non-null    int64  \n",
            " 46  total_assets_tminus2         482 non-null    int64  \n",
            " 47  total_assets_tminus1         482 non-null    int64  \n",
            " 48  total_assets_t               482 non-null    int64  \n",
            " 49  cashflow_operations_tminus2  482 non-null    int64  \n",
            " 50  cashflow_operations_tminus1  482 non-null    int64  \n",
            " 51  cashflow_operations_t        482 non-null    int64  \n",
            " 52  cashflow_investing_tminus2   482 non-null    int64  \n",
            " 53  cashflow_investing_tminus1   482 non-null    int64  \n",
            " 54  cashflow_investing_t         482 non-null    int64  \n",
            " 55  cashflow_financial_tminus2   482 non-null    int64  \n",
            " 56  cashflow_financial_tminus1   482 non-null    int64  \n",
            " 57  cashflow_financial_t         482 non-null    int64  \n",
            " 58  promoters_tminus2            482 non-null    float64\n",
            " 59  promoters_tminus1            482 non-null    float64\n",
            " 60  promoters_t                  482 non-null    float64\n",
            " 61  FIIs_tminus2                 482 non-null    float64\n",
            " 62  FIIs_tminus1                 482 non-null    float64\n",
            " 63  FIIs_t                       482 non-null    float64\n",
            " 64  DIIs_tminus2                 482 non-null    float64\n",
            " 65  DIIs_tminus1                 482 non-null    float64\n",
            " 66  DIIs_t                       482 non-null    float64\n",
            " 67  public_tminus2               482 non-null    float64\n",
            " 68  public_tminus1               482 non-null    float64\n",
            " 69  public_t                     482 non-null    float64\n",
            "dtypes: float64(24), int64(45), object(1)\n",
            "memory usage: 263.7+ KB\n"
          ]
        }
      ]
    },
    {
      "cell_type": "code",
      "source": [
        "stocks.shape"
      ],
      "metadata": {
        "colab": {
          "base_uri": "https://localhost:8080/"
        },
        "id": "svZwfDiSAIWh",
        "outputId": "aa877b30-d429-4e24-d933-1520b277a91a"
      },
      "execution_count": null,
      "outputs": [
        {
          "output_type": "execute_result",
          "data": {
            "text/plain": [
              "(482, 70)"
            ]
          },
          "metadata": {},
          "execution_count": 4
        }
      ]
    },
    {
      "cell_type": "code",
      "source": [
        "stocks.rename(columns = {'market_cap':'Market Capture', 'stock_PE':'P/E Ratio', 'Dividend_Yield':'Dividend', 'ROE':'ROE', 'promoters_t':'Promoter Holdings', 'compounded_profit_growth':'Profit Growth %' , 'compounded_sales_growth':'Sales Growth %', 'ROCE':'ROCE' }, inplace = True)"
      ],
      "metadata": {
        "id": "3E3P4bU1AMIx"
      },
      "execution_count": null,
      "outputs": []
    },
    {
      "cell_type": "code",
      "source": [
        "stocks = stocks[['Market Capture', 'P/E Ratio', 'Dividend', 'ROE', 'Promoter Holdings', 'Profit Growth %', 'Sales Growth %', 'ROCE']]"
      ],
      "metadata": {
        "id": "QiDbMaboANYo"
      },
      "execution_count": null,
      "outputs": []
    },
    {
      "cell_type": "code",
      "source": [
        "stocks.shape"
      ],
      "metadata": {
        "colab": {
          "base_uri": "https://localhost:8080/"
        },
        "id": "3r1d4bn5AO8t",
        "outputId": "86d3d2ea-d8a4-4ecc-82d2-c5cd6bf7b474"
      },
      "execution_count": null,
      "outputs": [
        {
          "output_type": "execute_result",
          "data": {
            "text/plain": [
              "(482, 8)"
            ]
          },
          "metadata": {},
          "execution_count": 7
        }
      ]
    },
    {
      "cell_type": "code",
      "source": [
        "stocks.describe()"
      ],
      "metadata": {
        "colab": {
          "base_uri": "https://localhost:8080/",
          "height": 381
        },
        "id": "2impgr_yASQF",
        "outputId": "2af04001-ee4c-4a71-c414-e94740c13d96"
      },
      "execution_count": null,
      "outputs": [
        {
          "output_type": "execute_result",
          "data": {
            "text/plain": [
              "       Market Capture   P/E Ratio    Dividend         ROE  Promoter Holdings  \\\n",
              "count    4.820000e+02  482.000000  482.000000  482.000000         482.000000   \n",
              "mean     4.014489e+04   54.155768    1.171349   13.187946          54.661037   \n",
              "std      1.096750e+05   92.618187    1.973444   23.095786          19.845755   \n",
              "min      1.338000e+03    0.000000    0.000000 -230.000000           0.000000   \n",
              "25%      5.055250e+03   13.000000    0.102500    6.450000          44.032500   \n",
              "50%      1.184850e+04   28.400000    0.500000   13.400000          56.230000   \n",
              "75%      3.202300e+04   57.875000    1.230000   20.575000          70.410000   \n",
              "max      1.407835e+06  958.000000   16.500000  270.000000          95.840000   \n",
              "\n",
              "       Profit Growth %  Sales Growth %        ROCE  \n",
              "count        482.00000      482.000000  482.000000  \n",
              "mean         -22.16805       -5.796680   17.124046  \n",
              "std          552.39436       45.371281   17.606389  \n",
              "min       -10399.00000     -108.000000 -182.000000  \n",
              "25%          -41.00000      -18.750000    8.082500  \n",
              "50%           -8.00000       -7.000000   15.400000  \n",
              "75%           25.75000        4.000000   23.375000  \n",
              "max         3968.00000      847.000000  143.000000  "
            ],
            "text/html": [
              "\n",
              "  <div id=\"df-c59b285f-4b60-4c0a-92d3-d524911e806d\">\n",
              "    <div class=\"colab-df-container\">\n",
              "      <div>\n",
              "<style scoped>\n",
              "    .dataframe tbody tr th:only-of-type {\n",
              "        vertical-align: middle;\n",
              "    }\n",
              "\n",
              "    .dataframe tbody tr th {\n",
              "        vertical-align: top;\n",
              "    }\n",
              "\n",
              "    .dataframe thead th {\n",
              "        text-align: right;\n",
              "    }\n",
              "</style>\n",
              "<table border=\"1\" class=\"dataframe\">\n",
              "  <thead>\n",
              "    <tr style=\"text-align: right;\">\n",
              "      <th></th>\n",
              "      <th>Market Capture</th>\n",
              "      <th>P/E Ratio</th>\n",
              "      <th>Dividend</th>\n",
              "      <th>ROE</th>\n",
              "      <th>Promoter Holdings</th>\n",
              "      <th>Profit Growth %</th>\n",
              "      <th>Sales Growth %</th>\n",
              "      <th>ROCE</th>\n",
              "    </tr>\n",
              "  </thead>\n",
              "  <tbody>\n",
              "    <tr>\n",
              "      <th>count</th>\n",
              "      <td>4.820000e+02</td>\n",
              "      <td>482.000000</td>\n",
              "      <td>482.000000</td>\n",
              "      <td>482.000000</td>\n",
              "      <td>482.000000</td>\n",
              "      <td>482.00000</td>\n",
              "      <td>482.000000</td>\n",
              "      <td>482.000000</td>\n",
              "    </tr>\n",
              "    <tr>\n",
              "      <th>mean</th>\n",
              "      <td>4.014489e+04</td>\n",
              "      <td>54.155768</td>\n",
              "      <td>1.171349</td>\n",
              "      <td>13.187946</td>\n",
              "      <td>54.661037</td>\n",
              "      <td>-22.16805</td>\n",
              "      <td>-5.796680</td>\n",
              "      <td>17.124046</td>\n",
              "    </tr>\n",
              "    <tr>\n",
              "      <th>std</th>\n",
              "      <td>1.096750e+05</td>\n",
              "      <td>92.618187</td>\n",
              "      <td>1.973444</td>\n",
              "      <td>23.095786</td>\n",
              "      <td>19.845755</td>\n",
              "      <td>552.39436</td>\n",
              "      <td>45.371281</td>\n",
              "      <td>17.606389</td>\n",
              "    </tr>\n",
              "    <tr>\n",
              "      <th>min</th>\n",
              "      <td>1.338000e+03</td>\n",
              "      <td>0.000000</td>\n",
              "      <td>0.000000</td>\n",
              "      <td>-230.000000</td>\n",
              "      <td>0.000000</td>\n",
              "      <td>-10399.00000</td>\n",
              "      <td>-108.000000</td>\n",
              "      <td>-182.000000</td>\n",
              "    </tr>\n",
              "    <tr>\n",
              "      <th>25%</th>\n",
              "      <td>5.055250e+03</td>\n",
              "      <td>13.000000</td>\n",
              "      <td>0.102500</td>\n",
              "      <td>6.450000</td>\n",
              "      <td>44.032500</td>\n",
              "      <td>-41.00000</td>\n",
              "      <td>-18.750000</td>\n",
              "      <td>8.082500</td>\n",
              "    </tr>\n",
              "    <tr>\n",
              "      <th>50%</th>\n",
              "      <td>1.184850e+04</td>\n",
              "      <td>28.400000</td>\n",
              "      <td>0.500000</td>\n",
              "      <td>13.400000</td>\n",
              "      <td>56.230000</td>\n",
              "      <td>-8.00000</td>\n",
              "      <td>-7.000000</td>\n",
              "      <td>15.400000</td>\n",
              "    </tr>\n",
              "    <tr>\n",
              "      <th>75%</th>\n",
              "      <td>3.202300e+04</td>\n",
              "      <td>57.875000</td>\n",
              "      <td>1.230000</td>\n",
              "      <td>20.575000</td>\n",
              "      <td>70.410000</td>\n",
              "      <td>25.75000</td>\n",
              "      <td>4.000000</td>\n",
              "      <td>23.375000</td>\n",
              "    </tr>\n",
              "    <tr>\n",
              "      <th>max</th>\n",
              "      <td>1.407835e+06</td>\n",
              "      <td>958.000000</td>\n",
              "      <td>16.500000</td>\n",
              "      <td>270.000000</td>\n",
              "      <td>95.840000</td>\n",
              "      <td>3968.00000</td>\n",
              "      <td>847.000000</td>\n",
              "      <td>143.000000</td>\n",
              "    </tr>\n",
              "  </tbody>\n",
              "</table>\n",
              "</div>\n",
              "      <button class=\"colab-df-convert\" onclick=\"convertToInteractive('df-c59b285f-4b60-4c0a-92d3-d524911e806d')\"\n",
              "              title=\"Convert this dataframe to an interactive table.\"\n",
              "              style=\"display:none;\">\n",
              "        \n",
              "  <svg xmlns=\"http://www.w3.org/2000/svg\" height=\"24px\"viewBox=\"0 0 24 24\"\n",
              "       width=\"24px\">\n",
              "    <path d=\"M0 0h24v24H0V0z\" fill=\"none\"/>\n",
              "    <path d=\"M18.56 5.44l.94 2.06.94-2.06 2.06-.94-2.06-.94-.94-2.06-.94 2.06-2.06.94zm-11 1L8.5 8.5l.94-2.06 2.06-.94-2.06-.94L8.5 2.5l-.94 2.06-2.06.94zm10 10l.94 2.06.94-2.06 2.06-.94-2.06-.94-.94-2.06-.94 2.06-2.06.94z\"/><path d=\"M17.41 7.96l-1.37-1.37c-.4-.4-.92-.59-1.43-.59-.52 0-1.04.2-1.43.59L10.3 9.45l-7.72 7.72c-.78.78-.78 2.05 0 2.83L4 21.41c.39.39.9.59 1.41.59.51 0 1.02-.2 1.41-.59l7.78-7.78 2.81-2.81c.8-.78.8-2.07 0-2.86zM5.41 20L4 18.59l7.72-7.72 1.47 1.35L5.41 20z\"/>\n",
              "  </svg>\n",
              "      </button>\n",
              "      \n",
              "  <style>\n",
              "    .colab-df-container {\n",
              "      display:flex;\n",
              "      flex-wrap:wrap;\n",
              "      gap: 12px;\n",
              "    }\n",
              "\n",
              "    .colab-df-convert {\n",
              "      background-color: #E8F0FE;\n",
              "      border: none;\n",
              "      border-radius: 50%;\n",
              "      cursor: pointer;\n",
              "      display: none;\n",
              "      fill: #1967D2;\n",
              "      height: 32px;\n",
              "      padding: 0 0 0 0;\n",
              "      width: 32px;\n",
              "    }\n",
              "\n",
              "    .colab-df-convert:hover {\n",
              "      background-color: #E2EBFA;\n",
              "      box-shadow: 0px 1px 2px rgba(60, 64, 67, 0.3), 0px 1px 3px 1px rgba(60, 64, 67, 0.15);\n",
              "      fill: #174EA6;\n",
              "    }\n",
              "\n",
              "    [theme=dark] .colab-df-convert {\n",
              "      background-color: #3B4455;\n",
              "      fill: #D2E3FC;\n",
              "    }\n",
              "\n",
              "    [theme=dark] .colab-df-convert:hover {\n",
              "      background-color: #434B5C;\n",
              "      box-shadow: 0px 1px 3px 1px rgba(0, 0, 0, 0.15);\n",
              "      filter: drop-shadow(0px 1px 2px rgba(0, 0, 0, 0.3));\n",
              "      fill: #FFFFFF;\n",
              "    }\n",
              "  </style>\n",
              "\n",
              "      <script>\n",
              "        const buttonEl =\n",
              "          document.querySelector('#df-c59b285f-4b60-4c0a-92d3-d524911e806d button.colab-df-convert');\n",
              "        buttonEl.style.display =\n",
              "          google.colab.kernel.accessAllowed ? 'block' : 'none';\n",
              "\n",
              "        async function convertToInteractive(key) {\n",
              "          const element = document.querySelector('#df-c59b285f-4b60-4c0a-92d3-d524911e806d');\n",
              "          const dataTable =\n",
              "            await google.colab.kernel.invokeFunction('convertToInteractive',\n",
              "                                                     [key], {});\n",
              "          if (!dataTable) return;\n",
              "\n",
              "          const docLinkHtml = 'Like what you see? Visit the ' +\n",
              "            '<a target=\"_blank\" href=https://colab.research.google.com/notebooks/data_table.ipynb>data table notebook</a>'\n",
              "            + ' to learn more about interactive tables.';\n",
              "          element.innerHTML = '';\n",
              "          dataTable['output_type'] = 'display_data';\n",
              "          await google.colab.output.renderOutput(dataTable, element);\n",
              "          const docLink = document.createElement('div');\n",
              "          docLink.innerHTML = docLinkHtml;\n",
              "          element.appendChild(docLink);\n",
              "        }\n",
              "      </script>\n",
              "    </div>\n",
              "  </div>\n",
              "  "
            ]
          },
          "metadata": {},
          "execution_count": 8
        }
      ]
    },
    {
      "cell_type": "code",
      "source": [
        "stocks.info()"
      ],
      "metadata": {
        "colab": {
          "base_uri": "https://localhost:8080/"
        },
        "id": "YBjOmSxhATjx",
        "outputId": "83cc4c25-b2f2-4b68-cc59-76733530edee"
      },
      "execution_count": null,
      "outputs": [
        {
          "output_type": "stream",
          "name": "stdout",
          "text": [
            "<class 'pandas.core.frame.DataFrame'>\n",
            "RangeIndex: 482 entries, 0 to 481\n",
            "Data columns (total 8 columns):\n",
            " #   Column             Non-Null Count  Dtype  \n",
            "---  ------             --------------  -----  \n",
            " 0   Market Capture     482 non-null    int64  \n",
            " 1   P/E Ratio          482 non-null    float64\n",
            " 2   Dividend           482 non-null    float64\n",
            " 3   ROE                482 non-null    float64\n",
            " 4   Promoter Holdings  482 non-null    float64\n",
            " 5   Profit Growth %    482 non-null    int64  \n",
            " 6   Sales Growth %     482 non-null    int64  \n",
            " 7   ROCE               482 non-null    float64\n",
            "dtypes: float64(5), int64(3)\n",
            "memory usage: 30.2 KB\n"
          ]
        }
      ]
    },
    {
      "cell_type": "code",
      "source": [
        "stocks.isnull().sum()"
      ],
      "metadata": {
        "colab": {
          "base_uri": "https://localhost:8080/"
        },
        "id": "sH9D9UZYAVsD",
        "outputId": "7c544a03-6bcb-4b13-95c1-e12d66d6b03d"
      },
      "execution_count": null,
      "outputs": [
        {
          "output_type": "execute_result",
          "data": {
            "text/plain": [
              "Market Capture       0\n",
              "P/E Ratio            0\n",
              "Dividend             0\n",
              "ROE                  0\n",
              "Promoter Holdings    0\n",
              "Profit Growth %      0\n",
              "Sales Growth %       0\n",
              "ROCE                 0\n",
              "dtype: int64"
            ]
          },
          "metadata": {},
          "execution_count": 10
        }
      ]
    },
    {
      "cell_type": "code",
      "source": [
        "#finding correlation between all the columns\n",
        "correlation = stocks.corr()"
      ],
      "metadata": {
        "id": "8rrHcNkbAW1u"
      },
      "execution_count": null,
      "outputs": []
    },
    {
      "cell_type": "code",
      "source": [
        "#constructing the heatmap to understand the correaltion between the columns\n",
        "plt.figure(figsize = (10,10))\n",
        "sns.heatmap(correlation, cbar=True, square=True, fmt='.1f', annot = True, annot_kws={'size':8}, cmap='Blues')"
      ],
      "metadata": {
        "colab": {
          "base_uri": "https://localhost:8080/",
          "height": 646
        },
        "id": "LpM3jqB_AZdo",
        "outputId": "45a43c14-e190-4998-d906-ab6a00120bc5"
      },
      "execution_count": null,
      "outputs": [
        {
          "output_type": "execute_result",
          "data": {
            "text/plain": [
              "<matplotlib.axes._subplots.AxesSubplot at 0x7f377903b580>"
            ]
          },
          "metadata": {},
          "execution_count": 12
        },
        {
          "output_type": "display_data",
          "data": {
            "text/plain": [
              "<Figure size 720x720 with 2 Axes>"
            ],
            "image/png": "[encoded data removed]"
          },
          "metadata": {
            "needs_background": "light"
          }
        }
      ]
    },
    {
      "cell_type": "code",
      "source": [
        "stocks.columns"
      ],
      "metadata": {
        "colab": {
          "base_uri": "https://localhost:8080/"
        },
        "id": "zgtDerKvAawm",
        "outputId": "76807db5-06f1-48dd-893d-8827482798d0"
      },
      "execution_count": null,
      "outputs": [
        {
          "output_type": "execute_result",
          "data": {
            "text/plain": [
              "Index(['Market Capture', 'P/E Ratio', 'Dividend', 'ROE', 'Promoter Holdings',\n",
              "       'Profit Growth %', 'Sales Growth %', 'ROCE'],\n",
              "      dtype='object')"
            ]
          },
          "metadata": {},
          "execution_count": 13
        }
      ]
    },
    {
      "cell_type": "code",
      "source": [
        "#seperate the data and label\n",
        "x = stocks.drop('ROE',axis=1)"
      ],
      "metadata": {
        "id": "J8P0zcgKA1gB"
      },
      "execution_count": null,
      "outputs": []
    },
    {
      "cell_type": "code",
      "source": [
        "x"
      ],
      "metadata": {
        "colab": {
          "base_uri": "https://localhost:8080/",
          "height": 485
        },
        "id": "Gom2_KVfA_p4",
        "outputId": "ca1346a0-5664-4f3b-f426-50b920a62940"
      },
      "execution_count": null,
      "outputs": [
        {
          "output_type": "execute_result",
          "data": {
            "text/plain": [
              "     Market Capture  P/E Ratio  Dividend  Promoter Holdings  Profit Growth %  \\\n",
              "0             30807      533.0      0.00              75.00              -81   \n",
              "1             31174      178.0      0.34              75.00              -49   \n",
              "2             33570       21.9      0.78              54.53               14   \n",
              "3             18207       23.2      1.40              58.47               45   \n",
              "4             15703      126.0      0.00              39.47               -9   \n",
              "..              ...        ...       ...                ...              ...   \n",
              "477           39837        0.0      0.00               0.00               84   \n",
              "478           21016       37.5      0.14               4.02              -62   \n",
              "479            6422       23.0      0.98              49.22               15   \n",
              "480           12021        0.0      0.26              64.82              -21   \n",
              "481            3392       16.3      0.10              53.81              118   \n",
              "\n",
              "     Sales Growth %   ROCE  \n",
              "0               -19  16.20  \n",
              "1               -20   6.98  \n",
              "2               -12  16.70  \n",
              "3                -3  26.50  \n",
              "4               -12  11.00  \n",
              "..              ...    ...  \n",
              "477             -26  -0.52  \n",
              "478              -9  19.60  \n",
              "479               0  20.60  \n",
              "480             -31   1.78  \n",
              "481               1  19.70  \n",
              "\n",
              "[482 rows x 7 columns]"
            ],
            "text/html": [
              "\n",
              "  <div id=\"df-3e9f854b-8bc6-46f5-80b9-bb4fad85e45b\">\n",
              "    <div class=\"colab-df-container\">\n",
              "      <div>\n",
              "<style scoped>\n",
              "    .dataframe tbody tr th:only-of-type {\n",
              "        vertical-align: middle;\n",
              "    }\n",
              "\n",
              "    .dataframe tbody tr th {\n",
              "        vertical-align: top;\n",
              "    }\n",
              "\n",
              "    .dataframe thead th {\n",
              "        text-align: right;\n",
              "    }\n",
              "</style>\n",
              "<table border=\"1\" class=\"dataframe\">\n",
              "  <thead>\n",
              "    <tr style=\"text-align: right;\">\n",
              "      <th></th>\n",
              "      <th>Market Capture</th>\n",
              "      <th>P/E Ratio</th>\n",
              "      <th>Dividend</th>\n",
              "      <th>Promoter Holdings</th>\n",
              "      <th>Profit Growth %</th>\n",
              "      <th>Sales Growth %</th>\n",
              "      <th>ROCE</th>\n",
              "    </tr>\n",
              "  </thead>\n",
              "  <tbody>\n",
              "    <tr>\n",
              "      <th>0</th>\n",
              "      <td>30807</td>\n",
              "      <td>533.0</td>\n",
              "      <td>0.00</td>\n",
              "      <td>75.00</td>\n",
              "      <td>-81</td>\n",
              "      <td>-19</td>\n",
              "      <td>16.20</td>\n",
              "    </tr>\n",
              "    <tr>\n",
              "      <th>1</th>\n",
              "      <td>31174</td>\n",
              "      <td>178.0</td>\n",
              "      <td>0.34</td>\n",
              "      <td>75.00</td>\n",
              "      <td>-49</td>\n",
              "      <td>-20</td>\n",
              "      <td>6.98</td>\n",
              "    </tr>\n",
              "    <tr>\n",
              "      <th>2</th>\n",
              "      <td>33570</td>\n",
              "      <td>21.9</td>\n",
              "      <td>0.78</td>\n",
              "      <td>54.53</td>\n",
              "      <td>14</td>\n",
              "      <td>-12</td>\n",
              "      <td>16.70</td>\n",
              "    </tr>\n",
              "    <tr>\n",
              "      <th>3</th>\n",
              "      <td>18207</td>\n",
              "      <td>23.2</td>\n",
              "      <td>1.40</td>\n",
              "      <td>58.47</td>\n",
              "      <td>45</td>\n",
              "      <td>-3</td>\n",
              "      <td>26.50</td>\n",
              "    </tr>\n",
              "    <tr>\n",
              "      <th>4</th>\n",
              "      <td>15703</td>\n",
              "      <td>126.0</td>\n",
              "      <td>0.00</td>\n",
              "      <td>39.47</td>\n",
              "      <td>-9</td>\n",
              "      <td>-12</td>\n",
              "      <td>11.00</td>\n",
              "    </tr>\n",
              "    <tr>\n",
              "      <th>...</th>\n",
              "      <td>...</td>\n",
              "      <td>...</td>\n",
              "      <td>...</td>\n",
              "      <td>...</td>\n",
              "      <td>...</td>\n",
              "      <td>...</td>\n",
              "      <td>...</td>\n",
              "    </tr>\n",
              "    <tr>\n",
              "      <th>477</th>\n",
              "      <td>39837</td>\n",
              "      <td>0.0</td>\n",
              "      <td>0.00</td>\n",
              "      <td>0.00</td>\n",
              "      <td>84</td>\n",
              "      <td>-26</td>\n",
              "      <td>-0.52</td>\n",
              "    </tr>\n",
              "    <tr>\n",
              "      <th>478</th>\n",
              "      <td>21016</td>\n",
              "      <td>37.5</td>\n",
              "      <td>0.14</td>\n",
              "      <td>4.02</td>\n",
              "      <td>-62</td>\n",
              "      <td>-9</td>\n",
              "      <td>19.60</td>\n",
              "    </tr>\n",
              "    <tr>\n",
              "      <th>479</th>\n",
              "      <td>6422</td>\n",
              "      <td>23.0</td>\n",
              "      <td>0.98</td>\n",
              "      <td>49.22</td>\n",
              "      <td>15</td>\n",
              "      <td>0</td>\n",
              "      <td>20.60</td>\n",
              "    </tr>\n",
              "    <tr>\n",
              "      <th>480</th>\n",
              "      <td>12021</td>\n",
              "      <td>0.0</td>\n",
              "      <td>0.26</td>\n",
              "      <td>64.82</td>\n",
              "      <td>-21</td>\n",
              "      <td>-31</td>\n",
              "      <td>1.78</td>\n",
              "    </tr>\n",
              "    <tr>\n",
              "      <th>481</th>\n",
              "      <td>3392</td>\n",
              "      <td>16.3</td>\n",
              "      <td>0.10</td>\n",
              "      <td>53.81</td>\n",
              "      <td>118</td>\n",
              "      <td>1</td>\n",
              "      <td>19.70</td>\n",
              "    </tr>\n",
              "  </tbody>\n",
              "</table>\n",
              "<p>482 rows × 7 columns</p>\n",
              "</div>\n",
              "      <button class=\"colab-df-convert\" onclick=\"convertToInteractive('df-3e9f854b-8bc6-46f5-80b9-bb4fad85e45b')\"\n",
              "              title=\"Convert this dataframe to an interactive table.\"\n",
              "              style=\"display:none;\">\n",
              "        \n",
              "  <svg xmlns=\"http://www.w3.org/2000/svg\" height=\"24px\"viewBox=\"0 0 24 24\"\n",
              "       width=\"24px\">\n",
              "    <path d=\"M0 0h24v24H0V0z\" fill=\"none\"/>\n",
              "    <path d=\"M18.56 5.44l.94 2.06.94-2.06 2.06-.94-2.06-.94-.94-2.06-.94 2.06-2.06.94zm-11 1L8.5 8.5l.94-2.06 2.06-.94-2.06-.94L8.5 2.5l-.94 2.06-2.06.94zm10 10l.94 2.06.94-2.06 2.06-.94-2.06-.94-.94-2.06-.94 2.06-2.06.94z\"/><path d=\"M17.41 7.96l-1.37-1.37c-.4-.4-.92-.59-1.43-.59-.52 0-1.04.2-1.43.59L10.3 9.45l-7.72 7.72c-.78.78-.78 2.05 0 2.83L4 21.41c.39.39.9.59 1.41.59.51 0 1.02-.2 1.41-.59l7.78-7.78 2.81-2.81c.8-.78.8-2.07 0-2.86zM5.41 20L4 18.59l7.72-7.72 1.47 1.35L5.41 20z\"/>\n",
              "  </svg>\n",
              "      </button>\n",
              "      \n",
              "  <style>\n",
              "    .colab-df-container {\n",
              "      display:flex;\n",
              "      flex-wrap:wrap;\n",
              "      gap: 12px;\n",
              "    }\n",
              "\n",
              "    .colab-df-convert {\n",
              "      background-color: #E8F0FE;\n",
              "      border: none;\n",
              "      border-radius: 50%;\n",
              "      cursor: pointer;\n",
              "      display: none;\n",
              "      fill: #1967D2;\n",
              "      height: 32px;\n",
              "      padding: 0 0 0 0;\n",
              "      width: 32px;\n",
              "    }\n",
              "\n",
              "    .colab-df-convert:hover {\n",
              "      background-color: #E2EBFA;\n",
              "      box-shadow: 0px 1px 2px rgba(60, 64, 67, 0.3), 0px 1px 3px 1px rgba(60, 64, 67, 0.15);\n",
              "      fill: #174EA6;\n",
              "    }\n",
              "\n",
              "    [theme=dark] .colab-df-convert {\n",
              "      background-color: #3B4455;\n",
              "      fill: #D2E3FC;\n",
              "    }\n",
              "\n",
              "    [theme=dark] .colab-df-convert:hover {\n",
              "      background-color: #434B5C;\n",
              "      box-shadow: 0px 1px 3px 1px rgba(0, 0, 0, 0.15);\n",
              "      filter: drop-shadow(0px 1px 2px rgba(0, 0, 0, 0.3));\n",
              "      fill: #FFFFFF;\n",
              "    }\n",
              "  </style>\n",
              "\n",
              "      <script>\n",
              "        const buttonEl =\n",
              "          document.querySelector('#df-3e9f854b-8bc6-46f5-80b9-bb4fad85e45b button.colab-df-convert');\n",
              "        buttonEl.style.display =\n",
              "          google.colab.kernel.accessAllowed ? 'block' : 'none';\n",
              "\n",
              "        async function convertToInteractive(key) {\n",
              "          const element = document.querySelector('#df-3e9f854b-8bc6-46f5-80b9-bb4fad85e45b');\n",
              "          const dataTable =\n",
              "            await google.colab.kernel.invokeFunction('convertToInteractive',\n",
              "                                                     [key], {});\n",
              "          if (!dataTable) return;\n",
              "\n",
              "          const docLinkHtml = 'Like what you see? Visit the ' +\n",
              "            '<a target=\"_blank\" href=https://colab.research.google.com/notebooks/data_table.ipynb>data table notebook</a>'\n",
              "            + ' to learn more about interactive tables.';\n",
              "          element.innerHTML = '';\n",
              "          dataTable['output_type'] = 'display_data';\n",
              "          await google.colab.output.renderOutput(dataTable, element);\n",
              "          const docLink = document.createElement('div');\n",
              "          docLink.innerHTML = docLinkHtml;\n",
              "          element.appendChild(docLink);\n",
              "        }\n",
              "      </script>\n",
              "    </div>\n",
              "  </div>\n",
              "  "
            ]
          },
          "metadata": {},
          "execution_count": 15
        }
      ]
    },
    {
      "cell_type": "code",
      "source": [
        "y = stocks['ROE'].apply(lambda y_value: 1 if y_value>=16 else 0 )"
      ],
      "metadata": {
        "id": "GjCrZQ6-BAo8"
      },
      "execution_count": null,
      "outputs": []
    },
    {
      "cell_type": "code",
      "source": [
        "print(y)"
      ],
      "metadata": {
        "colab": {
          "base_uri": "https://localhost:8080/"
        },
        "id": "fSq7tFH-BiPw",
        "outputId": "0ecc52d5-a037-4dec-89ee-f6b31077629c"
      },
      "execution_count": null,
      "outputs": [
        {
          "output_type": "stream",
          "name": "stdout",
          "text": [
            "0      0\n",
            "1      0\n",
            "2      0\n",
            "3      1\n",
            "4      0\n",
            "      ..\n",
            "477    0\n",
            "478    0\n",
            "479    0\n",
            "480    0\n",
            "481    0\n",
            "Name: ROE, Length: 482, dtype: int64\n"
          ]
        }
      ]
    },
    {
      "cell_type": "code",
      "source": [
        "x_train, x_test , y_train , y_test = train_test_split(x , y ,test_size = 0.2 , random_state = 2)"
      ],
      "metadata": {
        "id": "nLPByCiXBksk"
      },
      "execution_count": null,
      "outputs": []
    },
    {
      "cell_type": "code",
      "source": [
        "print(y.shape , y_train.shape , y_test.shape)"
      ],
      "metadata": {
        "colab": {
          "base_uri": "https://localhost:8080/"
        },
        "id": "QqNeKJ27Bp8Y",
        "outputId": "91d17c8e-8523-47d5-f562-0f1ee709bd46"
      },
      "execution_count": null,
      "outputs": [
        {
          "output_type": "stream",
          "name": "stdout",
          "text": [
            "(482,) (385,) (97,)\n"
          ]
        }
      ]
    },
    {
      "cell_type": "markdown",
      "source": [
        "MODEL TRAINING RANDOM FOREST DECISION TREE CLASSIFIER"
      ],
      "metadata": {
        "id": "mvVYq9efBwD7"
      }
    },
    {
      "cell_type": "code",
      "source": [
        "model = RandomForestClassifier()"
      ],
      "metadata": {
        "id": "zcf3OtusBs3E"
      },
      "execution_count": null,
      "outputs": []
    },
    {
      "cell_type": "code",
      "source": [
        "model.fit(x_train, y_train)"
      ],
      "metadata": {
        "colab": {
          "base_uri": "https://localhost:8080/"
        },
        "id": "ofWU-4VeBzTs",
        "outputId": "176a1639-d236-4339-8ba9-479201c8ce7c"
      },
      "execution_count": null,
      "outputs": [
        {
          "output_type": "execute_result",
          "data": {
            "text/plain": [
              "RandomForestClassifier()"
            ]
          },
          "metadata": {},
          "execution_count": 21
        }
      ]
    },
    {
      "cell_type": "code",
      "source": [
        "#Accuracy on test data\n",
        "x_test_prediction = model.predict(x_test)\n",
        "test_data_accuracy = accuracy_score(x_test_prediction , y_test)"
      ],
      "metadata": {
        "id": "IIsDsIwGB1G7"
      },
      "execution_count": null,
      "outputs": []
    },
    {
      "cell_type": "code",
      "source": [
        "print('Accuracy of RandomForestClassifier: ', test_data_accuracy)"
      ],
      "metadata": {
        "colab": {
          "base_uri": "https://localhost:8080/"
        },
        "id": "qwjXua_OB3F1",
        "outputId": "bfbfa137-fad7-44b2-ff3a-61d0b2c6ef73"
      },
      "execution_count": null,
      "outputs": [
        {
          "output_type": "stream",
          "name": "stdout",
          "text": [
            "Accuracy of RandomForestClassifier:  0.9278350515463918\n"
          ]
        }
      ]
    },
    {
      "cell_type": "code",
      "source": [
        "x.columns"
      ],
      "metadata": {
        "colab": {
          "base_uri": "https://localhost:8080/"
        },
        "id": "WocVvHsPIqgf",
        "outputId": "c2d0cac1-fa50-4110-9610-b8f1415de81c"
      },
      "execution_count": null,
      "outputs": [
        {
          "output_type": "execute_result",
          "data": {
            "text/plain": [
              "Index(['Market Capture', 'P/E Ratio', 'Dividend', 'Promoter Holdings',\n",
              "       'Profit Growth %', 'Sales Growth %', 'ROCE'],\n",
              "      dtype='object')"
            ]
          },
          "metadata": {},
          "execution_count": 24
        }
      ]
    },
    {
      "cell_type": "markdown",
      "source": [
        "DRAWBACK of this ML Model is that it will give the result as weak if the stock is fundamentally moderate."
      ],
      "metadata": {
        "id": "4DTDRU_K8vG9"
      }
    },
    {
      "cell_type": "code",
      "source": [
        "input_data = (68476, 26.9, 0.81, 446.9, 70.1, 35.6, 19.3)\n",
        "input_data_as_numpy_array = np.asarray(input_data)\n",
        "input_data_reshape = input_data_as_numpy_array.reshape(1,-1)\n",
        "prediction = model.predict(input_data_reshape)\n",
        "print(prediction)\n",
        "\n",
        "if(prediction[0]==1):\n",
        "  print(\"Stock is Fundamentally Stong\")\n",
        "else:\n",
        "  print(\"Stock is Fundamentally Weak\")"
      ],
      "metadata": {
        "colab": {
          "base_uri": "https://localhost:8080/"
        },
        "id": "wbwziJjrB4zP",
        "outputId": "bc9888d2-c3a7-4478-df29-3d8a969c56e5"
      },
      "execution_count": null,
      "outputs": [
        {
          "output_type": "stream",
          "name": "stdout",
          "text": [
            "[0]\n",
            "Stock is Fundamentally Weak\n"
          ]
        },
        {
          "output_type": "stream",
          "name": "stderr",
          "text": [
            "/usr/local/lib/python3.8/dist-packages/sklearn/base.py:450: UserWarning: X does not have valid feature names, but RandomForestClassifier was fitted with feature names\n",
            "  warnings.warn(\n"
          ]
        }
      ]
    },
    {
      "cell_type": "code",
      "source": [],
      "metadata": {
        "id": "P51ILiMWkm0y"
      },
      "execution_count": null,
      "outputs": []
    }
  ]
}